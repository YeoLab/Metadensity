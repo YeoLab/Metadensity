{
 "cells": [
  {
   "cell_type": "markdown",
   "id": "34801779",
   "metadata": {},
   "source": [
    "# How does Metadensity Work\n",
    "This notebook visualizes every step of Metadenisty"
   ]
  },
  {
   "cell_type": "code",
   "execution_count": 1,
   "id": "7e91ce92",
   "metadata": {},
   "outputs": [
    {
     "name": "stdout",
     "output_type": "stream",
     "text": [
      "Using /home/hsher/gencode_coords/GRCh38.p13.genome.fa\n",
      "using /home/hsher/gencode_coords/GRCh38.p13.genome.fa\n",
      "Using:  /home/hsher/gencode_coords/gencode.v33.transcript.gff3\n",
      "Using: /home/hsher/Metadensity/metadensity/data/hg38/gencode\n",
      "Done building metagene\n"
     ]
    }
   ],
   "source": [
    "# set up files associated with each genome coordinates\n",
    "import metadensity as md\n",
    "md.settings.from_config_file('/home/hsher/Metadensity/config/hg38.ini')\n",
    "\n",
    "\n",
    "# then import the modules\n",
    "from metadensity.metadensity import *\n",
    "from metadensity.plotd import *\n",
    "import pandas as pd\n",
    "import matplotlib.pyplot as plt\n",
    "\n",
    "\n",
    "# I have a precompiles list of ENCODE datas as a csv that loads in this dataloader\n",
    "import sys\n",
    "sys.path.append('/home/hsher/Metadensity/scripts')\n",
    "from dataloader import *\n",
    "%matplotlib inline\n",
    "\n",
    "plt.style.use('seaborn-white')\n",
    "\n",
    "\n",
    "# build 1 dataset for visualizting intermediates\n",
    "SF3B4 = eCLIP.from_series(encode_data.loc[(encode_data['RBP'] == 'SF3B4')&(encode_data['Cell line'] == 'HepG2')].iloc[0],\n",
    "                          single_end = False)\n",
    "\n",
    "def build_idr_metatruncate(eCLIP, transcript = ['ENST00000367078.8','ENST00000338591.8']):\n",
    "    ''' build metadensity object for eCLIP and its idr peak containing transcript'''\n",
    "    m = Metatruncate(eCLIP, eCLIP.name,\n",
    "                     background_method = 'relative information',\n",
    "                     normalize = False,\n",
    "                    transcript_ids = transcript)\n",
    "    m.get_density_array(use_truncation = True)\n",
    "    return m\n",
    "meta = build_idr_metatruncate(SF3B4)"
   ]
  },
  {
   "cell_type": "markdown",
   "id": "d9764661",
   "metadata": {},
   "source": [
    "## `Metadensity` Object Contains many genes\n",
    "\n",
    "### Here we only computed 2 genes `'ENST00000367078.8'` `'ENST00000338591.8'` for the sake of time"
   ]
  },
  {
   "cell_type": "code",
   "execution_count": 2,
   "id": "050d1695",
   "metadata": {},
   "outputs": [
    {
     "data": {
      "text/plain": [
       "['ENST00000367078.8', 'ENST00000338591.8']"
      ]
     },
     "execution_count": 2,
     "metadata": {},
     "output_type": "execute_result"
    }
   ],
   "source": [
    "# what gene/transcripts is being computed, show 3 of them\n",
    "list(meta.metagene.keys())[:3]"
   ]
  },
  {
   "cell_type": "code",
   "execution_count": 3,
   "id": "104b3706",
   "metadata": {},
   "outputs": [],
   "source": [
    "# pick a random gene\n",
    "one_gene = meta.metagene['ENST00000367078.8']"
   ]
  },
  {
   "cell_type": "code",
   "execution_count": 4,
   "id": "40744e19",
   "metadata": {},
   "outputs": [
    {
     "data": {
      "image/png": "[encoded data removed]",
      "text/plain": [
       "<Figure size 216x216 with 2 Axes>"
      ]
     },
     "metadata": {},
     "output_type": "display_data"
    }
   ],
   "source": [
    "# show raw data\n",
    "f, ax = plt.subplots(2,1,figsize = (3,3))\n",
    "# IPs\n",
    "ax[0].plot(one_gene.sites[SF3B4.uID]['rep1'][:1000], label = 'IP1', color = 'tomato')\n",
    "ax[0].plot(one_gene.sites[SF3B4.uID]['rep2'][:1000], label = 'IP2', color = 'orchid')\n",
    "ax[0].plot(one_gene.sites[SF3B4.uID]['ctrl'][:1000], label = 'SMI-INPUT', color = 'grey')\n",
    "ax[0].set_ylabel('# CITS')\n",
    "ax[0].legend()\n",
    "\n",
    "\n",
    "# show normalized data\n",
    "ax[1].plot(one_gene.value[SF3B4.uID]['rep1'][:1000], color = 'tomato', label = 'IP1')\n",
    "ax[1].plot(one_gene.value[SF3B4.uID]['rep2'][:1000], color = 'orchid', label = 'IP2')\n",
    "ax[1].set_ylabel('RI')\n",
    "ax[1].set_xlabel('b.p.')\n",
    "ax[1].legend()\n",
    "\n",
    "sns.despine()\n"
   ]
  },
  {
   "cell_type": "code",
   "execution_count": 5,
   "id": "a4acba7e",
   "metadata": {},
   "outputs": [],
   "source": [
    "# pick a random gene\n",
    "the_other_gene = meta.metagene['ENST00000338591.8']"
   ]
  },
  {
   "cell_type": "code",
   "execution_count": 6,
   "id": "5d304a17",
   "metadata": {},
   "outputs": [
    {
     "data": {
      "image/png": "[encoded data removed]",
      "text/plain": [
       "<Figure size 216x216 with 2 Axes>"
      ]
     },
     "metadata": {},
     "output_type": "display_data"
    }
   ],
   "source": [
    "# show raw data\n",
    "f, ax = plt.subplots(2,1,figsize = (3,3))\n",
    "# IPs\n",
    "ax[0].plot(the_other_gene.sites[SF3B4.uID]['rep1'][:1000], label = 'IP1', color = 'tomato')\n",
    "ax[0].plot(the_other_gene.sites[SF3B4.uID]['rep2'][:1000], label = 'IP2', color = 'orchid')\n",
    "ax[0].plot(the_other_gene.sites[SF3B4.uID]['ctrl'][:1000], label = 'SMI-INPUT', color = 'grey')\n",
    "ax[0].set_ylabel('# CITS')\n",
    "ax[0].legend()\n",
    "\n",
    "\n",
    "# show normalized data\n",
    "ax[1].plot(the_other_gene.value[SF3B4.uID]['rep1'][:1000], color = 'tomato', label = 'IP1')\n",
    "ax[1].plot(the_other_gene.value[SF3B4.uID]['rep2'][:1000], color = 'orchid', label = 'IP2')\n",
    "ax[1].set_ylabel('RI')\n",
    "ax[1].set_xlabel('b.p.')\n",
    "ax[1].legend()\n",
    "\n",
    "sns.despine()\n"
   ]
  },
  {
   "cell_type": "markdown",
   "id": "91010ca3",
   "metadata": {},
   "source": [
    "## Density at each feature\n",
    "Every feature is simply a window around the transcript/gene.\n",
    "The windowed value for every transcript, is stored in `density_array`."
   ]
  },
  {
   "cell_type": "code",
   "execution_count": 7,
   "id": "e87391d4",
   "metadata": {},
   "outputs": [
    {
     "data": {
      "text/plain": [
       "(2, 50)"
      ]
     },
     "execution_count": 7,
     "metadata": {},
     "output_type": "execute_result"
    }
   ],
   "source": [
    "meta.density_array['branchpoint', 'left', 'rep1'].shape # n_samples * length_feature. \n",
    "# by default the branchpoint \"window\" 50 nt at each side\n",
    "# left means \"5 \\prime to \"\n",
    "# right means \"3 \\prime to\""
   ]
  },
  {
   "cell_type": "code",
   "execution_count": 8,
   "id": "92bb5e73",
   "metadata": {},
   "outputs": [
    {
     "data": {
      "image/png": "[encoded data removed]",
      "text/plain": [
       "<Figure size 360x216 with 1 Axes>"
      ]
     },
     "metadata": {},
     "output_type": "display_data"
    }
   ],
   "source": [
    "f, ax = plt.subplots(1,1, figsize = (5,3), sharey = True)\n",
    "ax.plot(meta.density_array['branchpoint', 'left', 'rep1'][0,:], color = 'skyblue')\n",
    "ax.plot(meta.density_array['branchpoint', 'left', 'rep1'][1,:], color = 'royalblue')\n",
    "\n",
    "ax.set_ylabel('RI')\n",
    "sns.despine()\n"
   ]
  }
 ],
 "metadata": {
  "kernelspec": {
   "display_name": "metadensity",
   "language": "python",
   "name": "metadensity"
  },
  "language_info": {
   "codemirror_mode": {
    "name": "ipython",
    "version": 3
   },
   "file_extension": ".py",
   "mimetype": "text/x-python",
   "name": "python",
   "nbconvert_exporter": "python",
   "pygments_lexer": "ipython3",
   "version": "3.7.12"
  }
 },
 "nbformat": 4,
 "nbformat_minor": 5
}
