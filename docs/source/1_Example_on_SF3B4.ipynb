{
 "cells": [
  {
   "cell_type": "markdown",
   "metadata": {},
   "source": [
    "# Spliceosomal proteins around branchpoints and splice sites\n",
    "This notebook showcases SF3B4, U2 density around branchpoints"
   ]
  },
  {
   "cell_type": "code",
   "execution_count": 1,
   "metadata": {},
   "outputs": [
    {
     "name": "stdout",
     "output_type": "stream",
     "text": [
      "Using /home/hsher/gencode_coords/GRCh38.p13.genome.fa\n",
      "using /home/hsher/gencode_coords/GRCh38.p13.genome.fa\n",
      "Using:  /home/hsher/gencode_coords/gencode.v33.transcript.gff3\n"
     ]
    }
   ],
   "source": [
    "# set up files associated with each genome coordinates\n",
    "import metadensity as md\n",
    "md.settings.from_config_file('/home/hsher/Metadensity/config/hg38.ini')\n",
    "\n",
    "\n",
    "# then import the modules\n",
    "from metadensity.metadensity import *\n",
    "from metadensity.plotd import *\n",
    "import pandas as pd\n",
    "import matplotlib.pyplot as plt\n",
    "\n",
    "\n",
    "# I have a precompiles list of ENCODE datas as a csv that loads in this dataloader\n",
    "import sys\n",
    "sys.path.append('/home/hsher/Metadensity/scripts')\n",
    "from dataloader import *\n",
    "%matplotlib inline\n",
    "\n",
    "plt.style.use('seaborn-white')"
   ]
  },
  {
   "cell_type": "markdown",
   "metadata": {},
   "source": [
    "## load RBPs into eCLIP object"
   ]
  },
  {
   "cell_type": "code",
   "execution_count": 2,
   "metadata": {},
   "outputs": [
    {
     "data": {
      "text/html": [
       "<div>\n",
       "<style scoped>\n",
       "    .dataframe tbody tr th:only-of-type {\n",
       "        vertical-align: middle;\n",
       "    }\n",
       "\n",
       "    .dataframe tbody tr th {\n",
       "        vertical-align: top;\n",
       "    }\n",
       "\n",
       "    .dataframe thead th {\n",
       "        text-align: right;\n",
       "    }\n",
       "</style>\n",
       "<table border=\"1\" class=\"dataframe\">\n",
       "  <thead>\n",
       "    <tr style=\"text-align: right;\">\n",
       "      <th></th>\n",
       "      <th>uid</th>\n",
       "      <th>RBP</th>\n",
       "      <th>Cell line</th>\n",
       "      <th>bam_0</th>\n",
       "      <th>bam_1</th>\n",
       "      <th>bam_control</th>\n",
       "      <th>minus_0</th>\n",
       "      <th>minus_1</th>\n",
       "      <th>minus_control</th>\n",
       "      <th>plus_0</th>\n",
       "      <th>plus_1</th>\n",
       "      <th>plus_control</th>\n",
       "      <th>idr</th>\n",
       "      <th>bed_0</th>\n",
       "      <th>bed_1</th>\n",
       "    </tr>\n",
       "  </thead>\n",
       "  <tbody>\n",
       "    <tr>\n",
       "      <th>21</th>\n",
       "      <td>242</td>\n",
       "      <td>U2AF2</td>\n",
       "      <td>K562</td>\n",
       "      <td>/projects/ps-yeolab3/encode/analysis/encode_GR...</td>\n",
       "      <td>/projects/ps-yeolab3/encode/analysis/encode_GR...</td>\n",
       "      <td>/projects/ps-yeolab3/encode/analysis/encode_GR...</td>\n",
       "      <td>/projects/ps-yeolab3/encode/analysis/encode_GR...</td>\n",
       "      <td>/projects/ps-yeolab3/encode/analysis/encode_GR...</td>\n",
       "      <td>/projects/ps-yeolab3/encode/analysis/encode_GR...</td>\n",
       "      <td>/projects/ps-yeolab3/encode/analysis/encode_GR...</td>\n",
       "      <td>/projects/ps-yeolab3/encode/analysis/encode_GR...</td>\n",
       "      <td>/projects/ps-yeolab3/encode/analysis/encode_GR...</td>\n",
       "      <td>/projects/ps-yeolab5/encode/EVN_eCLIP_analysis...</td>\n",
       "      <td>/projects/ps-yeolab5/encode/EVN_eCLIP_analysis...</td>\n",
       "      <td>/projects/ps-yeolab5/encode/EVN_eCLIP_analysis...</td>\n",
       "    </tr>\n",
       "    <tr>\n",
       "      <th>23</th>\n",
       "      <td>244</td>\n",
       "      <td>U2AF1</td>\n",
       "      <td>K562</td>\n",
       "      <td>/projects/ps-yeolab3/encode/analysis/encode_GR...</td>\n",
       "      <td>/projects/ps-yeolab3/encode/analysis/encode_GR...</td>\n",
       "      <td>/projects/ps-yeolab3/encode/analysis/encode_GR...</td>\n",
       "      <td>/projects/ps-yeolab3/encode/analysis/encode_GR...</td>\n",
       "      <td>/projects/ps-yeolab3/encode/analysis/encode_GR...</td>\n",
       "      <td>/projects/ps-yeolab3/encode/analysis/encode_GR...</td>\n",
       "      <td>/projects/ps-yeolab3/encode/analysis/encode_GR...</td>\n",
       "      <td>/projects/ps-yeolab3/encode/analysis/encode_GR...</td>\n",
       "      <td>/projects/ps-yeolab3/encode/analysis/encode_GR...</td>\n",
       "      <td>/projects/ps-yeolab5/encode/EVN_eCLIP_analysis...</td>\n",
       "      <td>/projects/ps-yeolab5/encode/EVN_eCLIP_analysis...</td>\n",
       "      <td>/projects/ps-yeolab5/encode/EVN_eCLIP_analysis...</td>\n",
       "    </tr>\n",
       "    <tr>\n",
       "      <th>32</th>\n",
       "      <td>272</td>\n",
       "      <td>U2AF2</td>\n",
       "      <td>HepG2</td>\n",
       "      <td>/projects/ps-yeolab3/encode/analysis/encode_GR...</td>\n",
       "      <td>/projects/ps-yeolab3/encode/analysis/encode_GR...</td>\n",
       "      <td>/projects/ps-yeolab3/encode/analysis/encode_GR...</td>\n",
       "      <td>/projects/ps-yeolab3/encode/analysis/encode_GR...</td>\n",
       "      <td>/projects/ps-yeolab3/encode/analysis/encode_GR...</td>\n",
       "      <td>/projects/ps-yeolab3/encode/analysis/encode_GR...</td>\n",
       "      <td>/projects/ps-yeolab3/encode/analysis/encode_GR...</td>\n",
       "      <td>/projects/ps-yeolab3/encode/analysis/encode_GR...</td>\n",
       "      <td>/projects/ps-yeolab3/encode/analysis/encode_GR...</td>\n",
       "      <td>/projects/ps-yeolab5/encode/EVN_eCLIP_analysis...</td>\n",
       "      <td>/projects/ps-yeolab5/encode/EVN_eCLIP_analysis...</td>\n",
       "      <td>/projects/ps-yeolab5/encode/EVN_eCLIP_analysis...</td>\n",
       "    </tr>\n",
       "    <tr>\n",
       "      <th>37</th>\n",
       "      <td>282</td>\n",
       "      <td>U2AF1</td>\n",
       "      <td>HepG2</td>\n",
       "      <td>/projects/ps-yeolab3/encode/analysis/encode_GR...</td>\n",
       "      <td>/projects/ps-yeolab3/encode/analysis/encode_GR...</td>\n",
       "      <td>/projects/ps-yeolab3/encode/analysis/encode_GR...</td>\n",
       "      <td>/projects/ps-yeolab3/encode/analysis/encode_GR...</td>\n",
       "      <td>/projects/ps-yeolab3/encode/analysis/encode_GR...</td>\n",
       "      <td>/projects/ps-yeolab3/encode/analysis/encode_GR...</td>\n",
       "      <td>/projects/ps-yeolab3/encode/analysis/encode_GR...</td>\n",
       "      <td>/projects/ps-yeolab3/encode/analysis/encode_GR...</td>\n",
       "      <td>/projects/ps-yeolab3/encode/analysis/encode_GR...</td>\n",
       "      <td>/projects/ps-yeolab5/encode/EVN_eCLIP_analysis...</td>\n",
       "      <td>/projects/ps-yeolab5/encode/EVN_eCLIP_analysis...</td>\n",
       "      <td>/projects/ps-yeolab5/encode/EVN_eCLIP_analysis...</td>\n",
       "    </tr>\n",
       "  </tbody>\n",
       "</table>\n",
       "</div>"
      ],
      "text/plain": [
       "    uid    RBP Cell line                                              bam_0  \\\n",
       "21  242  U2AF2      K562  /projects/ps-yeolab3/encode/analysis/encode_GR...   \n",
       "23  244  U2AF1      K562  /projects/ps-yeolab3/encode/analysis/encode_GR...   \n",
       "32  272  U2AF2     HepG2  /projects/ps-yeolab3/encode/analysis/encode_GR...   \n",
       "37  282  U2AF1     HepG2  /projects/ps-yeolab3/encode/analysis/encode_GR...   \n",
       "\n",
       "                                                bam_1  \\\n",
       "21  /projects/ps-yeolab3/encode/analysis/encode_GR...   \n",
       "23  /projects/ps-yeolab3/encode/analysis/encode_GR...   \n",
       "32  /projects/ps-yeolab3/encode/analysis/encode_GR...   \n",
       "37  /projects/ps-yeolab3/encode/analysis/encode_GR...   \n",
       "\n",
       "                                          bam_control  \\\n",
       "21  /projects/ps-yeolab3/encode/analysis/encode_GR...   \n",
       "23  /projects/ps-yeolab3/encode/analysis/encode_GR...   \n",
       "32  /projects/ps-yeolab3/encode/analysis/encode_GR...   \n",
       "37  /projects/ps-yeolab3/encode/analysis/encode_GR...   \n",
       "\n",
       "                                              minus_0  \\\n",
       "21  /projects/ps-yeolab3/encode/analysis/encode_GR...   \n",
       "23  /projects/ps-yeolab3/encode/analysis/encode_GR...   \n",
       "32  /projects/ps-yeolab3/encode/analysis/encode_GR...   \n",
       "37  /projects/ps-yeolab3/encode/analysis/encode_GR...   \n",
       "\n",
       "                                              minus_1  \\\n",
       "21  /projects/ps-yeolab3/encode/analysis/encode_GR...   \n",
       "23  /projects/ps-yeolab3/encode/analysis/encode_GR...   \n",
       "32  /projects/ps-yeolab3/encode/analysis/encode_GR...   \n",
       "37  /projects/ps-yeolab3/encode/analysis/encode_GR...   \n",
       "\n",
       "                                        minus_control  \\\n",
       "21  /projects/ps-yeolab3/encode/analysis/encode_GR...   \n",
       "23  /projects/ps-yeolab3/encode/analysis/encode_GR...   \n",
       "32  /projects/ps-yeolab3/encode/analysis/encode_GR...   \n",
       "37  /projects/ps-yeolab3/encode/analysis/encode_GR...   \n",
       "\n",
       "                                               plus_0  \\\n",
       "21  /projects/ps-yeolab3/encode/analysis/encode_GR...   \n",
       "23  /projects/ps-yeolab3/encode/analysis/encode_GR...   \n",
       "32  /projects/ps-yeolab3/encode/analysis/encode_GR...   \n",
       "37  /projects/ps-yeolab3/encode/analysis/encode_GR...   \n",
       "\n",
       "                                               plus_1  \\\n",
       "21  /projects/ps-yeolab3/encode/analysis/encode_GR...   \n",
       "23  /projects/ps-yeolab3/encode/analysis/encode_GR...   \n",
       "32  /projects/ps-yeolab3/encode/analysis/encode_GR...   \n",
       "37  /projects/ps-yeolab3/encode/analysis/encode_GR...   \n",
       "\n",
       "                                         plus_control  \\\n",
       "21  /projects/ps-yeolab3/encode/analysis/encode_GR...   \n",
       "23  /projects/ps-yeolab3/encode/analysis/encode_GR...   \n",
       "32  /projects/ps-yeolab3/encode/analysis/encode_GR...   \n",
       "37  /projects/ps-yeolab3/encode/analysis/encode_GR...   \n",
       "\n",
       "                                                  idr  \\\n",
       "21  /projects/ps-yeolab5/encode/EVN_eCLIP_analysis...   \n",
       "23  /projects/ps-yeolab5/encode/EVN_eCLIP_analysis...   \n",
       "32  /projects/ps-yeolab5/encode/EVN_eCLIP_analysis...   \n",
       "37  /projects/ps-yeolab5/encode/EVN_eCLIP_analysis...   \n",
       "\n",
       "                                                bed_0  \\\n",
       "21  /projects/ps-yeolab5/encode/EVN_eCLIP_analysis...   \n",
       "23  /projects/ps-yeolab5/encode/EVN_eCLIP_analysis...   \n",
       "32  /projects/ps-yeolab5/encode/EVN_eCLIP_analysis...   \n",
       "37  /projects/ps-yeolab5/encode/EVN_eCLIP_analysis...   \n",
       "\n",
       "                                                bed_1  \n",
       "21  /projects/ps-yeolab5/encode/EVN_eCLIP_analysis...  \n",
       "23  /projects/ps-yeolab5/encode/EVN_eCLIP_analysis...  \n",
       "32  /projects/ps-yeolab5/encode/EVN_eCLIP_analysis...  \n",
       "37  /projects/ps-yeolab5/encode/EVN_eCLIP_analysis...  "
      ]
     },
     "execution_count": 2,
     "metadata": {},
     "output_type": "execute_result"
    }
   ],
   "source": [
    "#I have precompiled list of uID and the .bam, .bigWig files in the following dataframe.\n",
    "encode_data.loc[encode_data['RBP'].str.contains('U2AF')]"
   ]
  },
  {
   "cell_type": "code",
   "execution_count": 3,
   "metadata": {},
   "outputs": [],
   "source": [
    "SF3B4 = eCLIP.from_series(encode_data.loc[(encode_data['RBP'] == 'SF3B4')&(encode_data['Cell line'] == 'HepG2')].iloc[0],\n",
    "                          single_end = False)\n",
    "SF3A3 = eCLIP.from_series(encode_data.loc[(encode_data['RBP'] == 'SF3A3')&(encode_data['Cell line'] == 'HepG2')].iloc[0],\n",
    "                          single_end = False)\n",
    "U2AF1 = eCLIP.from_series(encode_data.loc[(encode_data['RBP'] == 'U2AF1')&(encode_data['Cell line'] == 'HepG2')].iloc[0],\n",
    "                          single_end = False)\n",
    "U2AF2 = eCLIP.from_series(encode_data.loc[(encode_data['RBP'] == 'U2AF2')&(encode_data['Cell line'] == 'HepG2')].iloc[0],\n",
    "                          single_end = False)\n",
    "  "
   ]
  },
  {
   "cell_type": "code",
   "execution_count": 4,
   "metadata": {},
   "outputs": [],
   "source": [
    "clips = [SF3B4, SF3A3, U2AF1, U2AF2]"
   ]
  },
  {
   "cell_type": "markdown",
   "metadata": {},
   "source": [
    "# Calulcate Density and Truncation sites\n",
    "Object `Metatruncation` and `Metadensity` takes three things:\n",
    "1. an experiment object `eCLIP` or `STAMP`.\n",
    "2. a set of transcript pyBedTools that you want to plot on\n",
    "3. name of the object\n",
    "\n",
    "Options include:\n",
    "1. `sample_no=` allows you to decide how many transcript you want to build the density. It will take longer. By default, `sample_no=200`. So in transcript if you give more than 200 transcripts, only 200 will be used\n",
    "2. `metagene` allows you to use pre-built metagene. This feature is more useful when you want to compare the same set of RNA over many RBPs.\n",
    "3. `background_method` handles how you want to deal with IP v.s. Input\n",
    "4. `normalize` handles how you want to normalize values within a transcript.\n",
    "\n",
    "## Difference between truncation and density\n",
    "\n",
    "`Metadensity` represents read coverage. `Metatruncation` represents the 5' end of read 2 for `eCLIP`; edit sites for `STAMP`."
   ]
  },
  {
   "cell_type": "code",
   "execution_count": 5,
   "metadata": {},
   "outputs": [],
   "source": [
    "# here for the set of transcript, we use the IDR peak containing transcript assuming they have good signal\n",
    "def build_idr_metadensity(eCLIP):\n",
    "    ''' build metadensity object for eCLIP and its idr peak containing transcript'''\n",
    "    m = Metadensity(eCLIP, eCLIP.name,background_method = 'relative information', normalize = False)\n",
    "    m.get_density_array()\n",
    "    return m\n",
    "def build_idr_metatruncate(eCLIP):\n",
    "    ''' build metadensity object for eCLIP and its idr peak containing transcript'''\n",
    "    m = Metatruncate(eCLIP, eCLIP.name,background_method = 'relative information', normalize = False)\n",
    "    m.get_density_array(use_truncation = True)\n",
    "    return m"
   ]
  },
  {
   "cell_type": "code",
   "execution_count": 6,
   "metadata": {},
   "outputs": [
    {
     "name": "stdout",
     "output_type": "stream",
     "text": [
      "Using: /home/hsher/Metadensity/metadensity/data/hg38/gencode\n",
      "Done building metagene\n",
      "Using: /home/hsher/Metadensity/metadensity/data/hg38/gencode\n",
      "Done building metagene\n",
      "Using: /home/hsher/Metadensity/metadensity/data/hg38/gencode\n",
      "Done building metagene\n",
      "Using: /home/hsher/Metadensity/metadensity/data/hg38/gencode\n",
      "Done building metagene\n",
      "Using: /home/hsher/Metadensity/metadensity/data/hg38/gencode\n",
      "Done building metagene\n",
      "Using: /home/hsher/Metadensity/metadensity/data/hg38/gencode\n",
      "Done building metagene\n",
      "Using: /home/hsher/Metadensity/metadensity/data/hg38/gencode\n",
      "Done building metagene\n",
      "Using: /home/hsher/Metadensity/metadensity/data/hg38/gencode\n",
      "Done building metagene\n"
     ]
    }
   ],
   "source": [
    "# this step takes some time for building metagene from the annotation files.\n",
    "den = [build_idr_metadensity(e) for e in clips]\n",
    "trun = [build_idr_metatruncate(e) for e in clips]"
   ]
  },
  {
   "cell_type": "markdown",
   "metadata": {},
   "source": [
    "## Visualize RBP map: individual density per transcript"
   ]
  },
  {
   "cell_type": "code",
   "execution_count": 7,
   "metadata": {},
   "outputs": [
    {
     "name": "stdout",
     "output_type": "stream",
     "text": [
      "Feeding wrong object <class 'list'>. Only accept Metadensity or Metatruncate\n"
     ]
    },
    {
     "ename": "AttributeError",
     "evalue": "'list' object has no attribute 'eCLIP'",
     "output_type": "error",
     "traceback": [
      "\u001b[0;31m---------------------------------------------------------------------------\u001b[0m",
      "\u001b[0;31mAttributeError\u001b[0m                            Traceback (most recent call last)",
      "\u001b[0;32m<ipython-input-7-d2188e744f70>\u001b[0m in \u001b[0;36m<module>\u001b[0;34m\u001b[0m\n\u001b[1;32m      1\u001b[0m \u001b[0;31m### PLOT INDIVIDUAL DENSITY\u001b[0m\u001b[0;34m\u001b[0m\u001b[0;34m\u001b[0m\u001b[0;34m\u001b[0m\u001b[0m\n\u001b[1;32m      2\u001b[0m \u001b[0;31m# you can customize the list of features you want to show. This is suitable when you are looking for splicing\u001b[0m\u001b[0;34m\u001b[0m\u001b[0;34m\u001b[0m\u001b[0;34m\u001b[0m\u001b[0m\n\u001b[0;32m----> 3\u001b[0;31m \u001b[0mf\u001b[0m \u001b[0;34m=\u001b[0m \u001b[0mplot_rbp_map\u001b[0m\u001b[0;34m(\u001b[0m\u001b[0;34m[\u001b[0m\u001b[0mden\u001b[0m\u001b[0;34m]\u001b[0m\u001b[0;34m,\u001b[0m \u001b[0mfeatures_to_show\u001b[0m \u001b[0;34m=\u001b[0m \u001b[0mgeneric_rna\u001b[0m\u001b[0;34m)\u001b[0m\u001b[0;34m\u001b[0m\u001b[0;34m\u001b[0m\u001b[0m\n\u001b[0m",
      "\u001b[0;32m~/miniconda3/envs/metadensity/lib/python3.7/site-packages/metadensity/plotd.py\u001b[0m in \u001b[0;36mplot_rbp_map\u001b[0;34m(metas, alpha, ymax, features_to_show, sort, rep_handle, cmap)\u001b[0m\n\u001b[1;32m    185\u001b[0m                 \u001b[0;32mif\u001b[0m \u001b[0mrep_handle\u001b[0m \u001b[0;34m==\u001b[0m \u001b[0;34m'combined'\u001b[0m\u001b[0;34m:\u001b[0m\u001b[0;34m\u001b[0m\u001b[0;34m\u001b[0m\u001b[0m\n\u001b[1;32m    186\u001b[0m                     \u001b[0;31m# mean of all reps\u001b[0m\u001b[0;34m\u001b[0m\u001b[0;34m\u001b[0m\u001b[0;34m\u001b[0m\u001b[0m\n\u001b[0;32m--> 187\u001b[0;31m                     \u001b[0mdensity_concat\u001b[0m \u001b[0;34m=\u001b[0m \u001b[0mnp\u001b[0m\u001b[0;34m.\u001b[0m\u001b[0mnanmean\u001b[0m\u001b[0;34m(\u001b[0m\u001b[0mnp\u001b[0m\u001b[0;34m.\u001b[0m\u001b[0mstack\u001b[0m\u001b[0;34m(\u001b[0m\u001b[0;34m[\u001b[0m\u001b[0mden_arr\u001b[0m\u001b[0;34m[\u001b[0m\u001b[0mfeat\u001b[0m\u001b[0;34m,\u001b[0m\u001b[0malign\u001b[0m\u001b[0;34m,\u001b[0m \u001b[0mr\u001b[0m\u001b[0;34m]\u001b[0m \u001b[0;32mfor\u001b[0m \u001b[0mr\u001b[0m \u001b[0;32min\u001b[0m \u001b[0mm\u001b[0m\u001b[0;34m.\u001b[0m\u001b[0meCLIP\u001b[0m\u001b[0;34m.\u001b[0m\u001b[0mrep_keys\u001b[0m\u001b[0;34m]\u001b[0m\u001b[0;34m)\u001b[0m\u001b[0;34m,\u001b[0m \u001b[0maxis\u001b[0m \u001b[0;34m=\u001b[0m \u001b[0;36m0\u001b[0m\u001b[0;34m)\u001b[0m\u001b[0;34m\u001b[0m\u001b[0;34m\u001b[0m\u001b[0m\n\u001b[0m\u001b[1;32m    188\u001b[0m                 \u001b[0;32melif\u001b[0m \u001b[0mrep_handle\u001b[0m \u001b[0;34m==\u001b[0m \u001b[0;34m'all'\u001b[0m\u001b[0;34m:\u001b[0m\u001b[0;34m\u001b[0m\u001b[0;34m\u001b[0m\u001b[0m\n\u001b[1;32m    189\u001b[0m                     \u001b[0;31m# plot each rep individually\u001b[0m\u001b[0;34m\u001b[0m\u001b[0;34m\u001b[0m\u001b[0;34m\u001b[0m\u001b[0m\n",
      "\u001b[0;31mAttributeError\u001b[0m: 'list' object has no attribute 'eCLIP'"
     ]
    },
    {
     "data": {
      "image/png": "[encoded data removed]",
      "text/plain": [
       "<Figure size 1368x216 with 9 Axes>"
      ]
     },
     "metadata": {},
     "output_type": "display_data"
    }
   ],
   "source": [
    "### PLOT INDIVIDUAL DENSITY\n",
    "# you can customize the list of features you want to show. This is suitable when you are looking for splicing\n",
    "f = plot_rbp_map([den], features_to_show = generic_rna)"
   ]
  },
  {
   "cell_type": "code",
   "execution_count": null,
   "metadata": {},
   "outputs": [],
   "source": [
    "### PLOT INDIVIDUAL TRUNCATION SITES\n",
    "\n",
    "f = plot_rbp_map(trun[0], features_to_show = ['intron'], cmap = 'Greys', ymax = 0.01)\n",
    "f.savefig('SF3B4_rnamap.svg', dpi = 300)"
   ]
  },
  {
   "cell_type": "code",
   "execution_count": null,
   "metadata": {},
   "outputs": [],
   "source": [
    "### PLOT INDIVIDUAL TRUNCATION SITES\n",
    "\n",
    "f = plot_rbp_map([trun[0]], features_to_show = ['branchpoint'], ymax = 0.01, cmap = 'Oranges')\n",
    "f.savefig('SF3B4_brmap.svg', dpi = 300)"
   ]
  },
  {
   "cell_type": "code",
   "execution_count": null,
   "metadata": {},
   "outputs": [],
   "source": [
    "### PLOT INDIVIDUAL DENSITY SITES\n",
    "f = plot_rbp_map([den], features_to_show = branchpoints, ymax = 0.01)"
   ]
  },
  {
   "cell_type": "code",
   "execution_count": null,
   "metadata": {},
   "outputs": [],
   "source": [
    "### PLOT INDIVIDUAL TRUNCATION SITES\n",
    "\n",
    "f = plot_rbp_map([trun], features_to_show = polyAs, ymax = 0.001)"
   ]
  },
  {
   "cell_type": "markdown",
   "metadata": {},
   "source": [
    "# Median and Mean density"
   ]
  },
  {
   "cell_type": "code",
   "execution_count": null,
   "metadata": {},
   "outputs": [],
   "source": [
    "color_dict = {'SF3B4': 'royalblue', 'SF3A3':'mediumorchid', 'U2AF1':'tomato'}"
   ]
  },
  {
   "cell_type": "code",
   "execution_count": null,
   "metadata": {},
   "outputs": [],
   "source": [
    "f=plot_mean_density(trun,\n",
    "                    features_to_show = ['intron', 'exon'], ymax = 0.02,\n",
    "                   color_dict = color_dict)\n",
    "f=beautify(f, offset = 0) # sns.despine \n",
    "f.get_axes()[0].set_ylabel('mean relative information')\n",
    "f.savefig('SF3B4_rna.svg', dpi = 300)"
   ]
  },
  {
   "cell_type": "code",
   "execution_count": null,
   "metadata": {},
   "outputs": [],
   "source": [
    "\n",
    "f=plot_mean_density(trun,\n",
    "                    features_to_show = ['branchpoint'], ymax = 0.02,\n",
    "                   color_dict = color_dict)\n",
    "f.get_axes()[0].set_ylabel('mean relative information')\n",
    "f=beautify(f, offset = 0) # sns.despine \n",
    "f.savefig('SF3B4_br.svg', dpi = 300)"
   ]
  }
 ],
 "metadata": {
  "kernelspec": {
   "display_name": "metadensity",
   "language": "python",
   "name": "metadensity"
  },
  "language_info": {
   "codemirror_mode": {
    "name": "ipython",
    "version": 3
   },
   "file_extension": ".py",
   "mimetype": "text/x-python",
   "name": "python",
   "nbconvert_exporter": "python",
   "pygments_lexer": "ipython3",
   "version": "3.7.12"
  }
 },
 "nbformat": 4,
 "nbformat_minor": 4
}
