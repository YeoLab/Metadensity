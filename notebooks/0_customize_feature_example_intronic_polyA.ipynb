{
 "cells": [
  {
   "cell_type": "code",
   "execution_count": 1,
   "metadata": {},
   "outputs": [
    {
     "name": "stdout",
     "output_type": "stream",
     "text": [
      "Using:  /home/hsher/gencode_coords/gencode.v33.transcript.gff3\n"
     ]
    }
   ],
   "source": [
    "from metadensity.metadensity import *\n",
    "from metadensity.plotd import *\n",
    "import pandas as pd\n",
    "import matplotlib.pyplot as plt\n",
    "import sys\n",
    "sys.path.append('/home/hsher/Metadensity/scripts')\n",
    "from dataloader import *\n",
    "%matplotlib inline"
   ]
  },
  {
   "cell_type": "markdown",
   "metadata": {},
   "source": [
    "# Load encode metadata\n",
    "I have precompiled list of uID and the .bam, .bigWig files in the following dataframe."
   ]
  },
  {
   "cell_type": "markdown",
   "metadata": {},
   "source": [
    "# Use some RBP previously documented to interact with intronic polyA sites"
   ]
  },
  {
   "cell_type": "code",
   "execution_count": 2,
   "metadata": {},
   "outputs": [
    {
     "data": {
      "text/html": [
       "<div>\n",
       "<style scoped>\n",
       "    .dataframe tbody tr th:only-of-type {\n",
       "        vertical-align: middle;\n",
       "    }\n",
       "\n",
       "    .dataframe tbody tr th {\n",
       "        vertical-align: top;\n",
       "    }\n",
       "\n",
       "    .dataframe thead th {\n",
       "        text-align: right;\n",
       "    }\n",
       "</style>\n",
       "<table border=\"1\" class=\"dataframe\">\n",
       "  <thead>\n",
       "    <tr style=\"text-align: right;\">\n",
       "      <th></th>\n",
       "      <th>uid</th>\n",
       "      <th>RBP</th>\n",
       "      <th>Cell line</th>\n",
       "      <th>bam_0</th>\n",
       "      <th>bam_1</th>\n",
       "      <th>bam_control</th>\n",
       "      <th>minus_0</th>\n",
       "      <th>minus_1</th>\n",
       "      <th>minus_control</th>\n",
       "      <th>plus_0</th>\n",
       "      <th>...</th>\n",
       "      <th>bed_0</th>\n",
       "      <th>bed_1</th>\n",
       "      <th>Batch</th>\n",
       "      <th>prefix</th>\n",
       "      <th>bam_control_0</th>\n",
       "      <th>bam_control_1</th>\n",
       "      <th>plus_control_0</th>\n",
       "      <th>plus_control_1</th>\n",
       "      <th>minus_control_0</th>\n",
       "      <th>minus_control_1</th>\n",
       "    </tr>\n",
       "  </thead>\n",
       "  <tbody>\n",
       "    <tr>\n",
       "      <th>28</th>\n",
       "      <td>258</td>\n",
       "      <td>CPSF6</td>\n",
       "      <td>K562</td>\n",
       "      <td>/projects/ps-yeolab3/encode/analysis/encode_GR...</td>\n",
       "      <td>/projects/ps-yeolab3/encode/analysis/encode_GR...</td>\n",
       "      <td>/projects/ps-yeolab3/encode/analysis/encode_GR...</td>\n",
       "      <td>/projects/ps-yeolab3/encode/analysis/encode_GR...</td>\n",
       "      <td>/projects/ps-yeolab3/encode/analysis/encode_GR...</td>\n",
       "      <td>/projects/ps-yeolab3/encode/analysis/encode_GR...</td>\n",
       "      <td>/projects/ps-yeolab3/encode/analysis/encode_GR...</td>\n",
       "      <td>...</td>\n",
       "      <td>/projects/ps-yeolab5/encode/EVN_eCLIP_analysis...</td>\n",
       "      <td>/projects/ps-yeolab5/encode/EVN_eCLIP_analysis...</td>\n",
       "      <td>NaN</td>\n",
       "      <td>NaN</td>\n",
       "      <td>NaN</td>\n",
       "      <td>NaN</td>\n",
       "      <td>NaN</td>\n",
       "      <td>NaN</td>\n",
       "      <td>NaN</td>\n",
       "      <td>NaN</td>\n",
       "    </tr>\n",
       "  </tbody>\n",
       "</table>\n",
       "<p>1 rows × 23 columns</p>\n",
       "</div>"
      ],
      "text/plain": [
       "    uid    RBP Cell line                                              bam_0  \\\n",
       "28  258  CPSF6      K562  /projects/ps-yeolab3/encode/analysis/encode_GR...   \n",
       "\n",
       "                                                bam_1  \\\n",
       "28  /projects/ps-yeolab3/encode/analysis/encode_GR...   \n",
       "\n",
       "                                          bam_control  \\\n",
       "28  /projects/ps-yeolab3/encode/analysis/encode_GR...   \n",
       "\n",
       "                                              minus_0  \\\n",
       "28  /projects/ps-yeolab3/encode/analysis/encode_GR...   \n",
       "\n",
       "                                              minus_1  \\\n",
       "28  /projects/ps-yeolab3/encode/analysis/encode_GR...   \n",
       "\n",
       "                                        minus_control  \\\n",
       "28  /projects/ps-yeolab3/encode/analysis/encode_GR...   \n",
       "\n",
       "                                               plus_0  ...  \\\n",
       "28  /projects/ps-yeolab3/encode/analysis/encode_GR...  ...   \n",
       "\n",
       "                                                bed_0  \\\n",
       "28  /projects/ps-yeolab5/encode/EVN_eCLIP_analysis...   \n",
       "\n",
       "                                                bed_1 Batch prefix  \\\n",
       "28  /projects/ps-yeolab5/encode/EVN_eCLIP_analysis...   NaN    NaN   \n",
       "\n",
       "   bam_control_0 bam_control_1 plus_control_0 plus_control_1 minus_control_0  \\\n",
       "28           NaN           NaN            NaN            NaN             NaN   \n",
       "\n",
       "   minus_control_1  \n",
       "28             NaN  \n",
       "\n",
       "[1 rows x 23 columns]"
      ]
     },
     "execution_count": 2,
     "metadata": {},
     "output_type": "execute_result"
    }
   ],
   "source": [
    "master_df.loc[master_df['RBP']=='CPSF6']"
   ]
  },
  {
   "cell_type": "code",
   "execution_count": 3,
   "metadata": {},
   "outputs": [],
   "source": [
    "U2AF1 = eCLIP.from_series(encode_data.loc[(encode_data['RBP'] == 'U2AF1')&(encode_data['Cell line'] == 'HepG2')].iloc[0], single_end = False)\n",
    "U2AF2 = eCLIP.from_series(encode_data.loc[(encode_data['RBP'] == 'U2AF2')&(encode_data['Cell line'] == 'HepG2')].iloc[0], single_end = False)\n",
    "SF3B4 = eCLIP.from_series(encode_data.loc[(encode_data['RBP'] == 'SF3B4')&(encode_data['Cell line'] == 'HepG2')].iloc[0], single_end = False)\n",
    "NONO = eCLIP.from_series(encode4_data.loc[(encode4_data['RBP'] == 'NONO')&(encode4_data['Cell line'] == 'HepG2')].iloc[0], single_end = True)\n",
    "CPSF6 = eCLIP.from_series(encode_data.loc[(encode_data['RBP'] == 'CPSF6')&(encode_data['Cell line'] == 'K562')].iloc[0], single_end = False)\n",
    "all_clips = [U2AF1,U2AF2,SF3B4, NONO,CPSF6]"
   ]
  },
  {
   "cell_type": "markdown",
   "metadata": {},
   "source": [
    "# Create custom  feature on metagene, using intronic polyA sites as an example"
   ]
  },
  {
   "cell_type": "code",
   "execution_count": 4,
   "metadata": {},
   "outputs": [],
   "source": [
    "from metadensity.config import settings"
   ]
  },
  {
   "cell_type": "code",
   "execution_count": 5,
   "metadata": {},
   "outputs": [
    {
     "name": "stderr",
     "output_type": "stream",
     "text": [
      "/home/hsher/miniconda3/envs/metadensity/lib/python3.7/site-packages/IPython/core/interactiveshell.py:3173: DtypeWarning: Columns (0) have mixed types.Specify dtype option on import or set low_memory=False.\n",
      "  interactivity=interactivity, compiler=compiler, result=result)\n"
     ]
    }
   ],
   "source": [
    "# load polyA sites files\n",
    "# (in order of decreasing priority: TE, terminal exon; EX, exonic; IN, intronic; DS, 1,000 nt downstream of an annotated terminal exon; AE, anti-sense to an exon; AI, anti-sense to an intron; AU, 1,000 nt upstream in anti-sense direction of a transcription start site; IG, intergenic)\n",
    "polyadf = pd.read_csv(os.path.join(settings.root_dir, settings.polya_fname), sep = '\\t', header = None, names = ['chrom', 'start', 'end', 'name', 'average expression', 'strand', 'perc_sample','n_sample', 'avg_tpm', 'polyatype', 'polyasignal'])\n",
    "#  two letter code for the cluster annotation (in order of decreasing priority: \n",
    "# TE, terminal exon; EX, exonic; IN, intronic; DS, 1,000 nt downstream of an annotated terminal exon; AE, anti-sense to an exon; AI, anti-sense to an intron; AU, 1,000 nt upstream in anti-sense direction of a transcription start site; IG, intergenic)\n",
    "# the chromosome is listed differently\n",
    "polyadf['chrom'] = 'chr'+polyadf['chrom'].astype(str)"
   ]
  },
  {
   "cell_type": "code",
   "execution_count": 6,
   "metadata": {},
   "outputs": [],
   "source": [
    "# make type specific annotation\n",
    "def extract_polyA_signal_coordinates(subset_polyadf):\n",
    "    ''' subtracting the coordinate of polyA signal from polya dataframe'''\n",
    "    # extract polya signals\n",
    "    signal_coord = []\n",
    "    for index, row in subset_polyadf.iterrows():\n",
    "        if type(row['polyasignal'])==str:\n",
    "            polyasignals = row['polyasignal'].split(';')\n",
    "            for sig in polyasignals:\n",
    "                motif, rela_pos, obs_pos = sig.split('@')\n",
    "                signal_coord.append([row['chrom'],int(obs_pos),int(obs_pos)+1, \n",
    "                                     row['name'], row['polyatype'], row['strand']])\n",
    "\n",
    "    # make into bed\n",
    "    polysignal_df = pd.DataFrame(signal_coord,\n",
    "                                columns= ['chrom', 'start', 'end', 'name', 'score', 'strand'])\n",
    "    polyasignal_bed = BedTool.from_dataframe(polysignal_df)\n",
    "\n",
    "    return polyasignal_bed\n",
    "def polyAtype_specific_coords(polyAtype, polyadf = polyadf):\n",
    "    ''' create polyA related feature for specific types of polyA\n",
    "    polyAtype can be TE, EX, IN, DS..'''\n",
    "    # filter for specific types\n",
    "    subset_polyadf = polyadf.loc[polyadf['polyatype']==polyAtype]\n",
    "    \n",
    "    # create bed of polyA sites\n",
    "    polya_site_bed = BedTool.from_dataframe(subset_polyadf)\n",
    "    polya_signal_bed = extract_polyA_signal_coordinates(subset_polyadf)\n",
    "    \n",
    "    return polya_site_bed, polya_signal_bed"
   ]
  },
  {
   "cell_type": "code",
   "execution_count": 7,
   "metadata": {},
   "outputs": [],
   "source": [
    "# extract intronic polyA sites and signal\n",
    "#information about the poly(A) signal(s) that are present upstream of the poly(A) site, \n",
    "#including the motif, the location with respect to the cleavage site and the genomic coordinate\n",
    "\n",
    "polya, polyasignal_bed = polyAtype_specific_coords('IN', polyadf = polyadf)"
   ]
  },
  {
   "cell_type": "code",
   "execution_count": 8,
   "metadata": {},
   "outputs": [
    {
     "name": "stdout",
     "output_type": "stream",
     "text": [
      "chr1\t16467\t16468\t1:16450:-\tIN\t-\n",
      "\n"
     ]
    }
   ],
   "source": [
    "print(polyasignal_bed[0])"
   ]
  },
  {
   "cell_type": "code",
   "execution_count": 9,
   "metadata": {},
   "outputs": [
    {
     "name": "stderr",
     "output_type": "stream",
     "text": [
      "/home/hsher/miniconda3/envs/metadensity/lib/python3.7/site-packages/pybedtools-0.8.1-py3.7-linux-x86_64.egg/pybedtools/bedtool.py:3681: UserWarning: Default names for filetype bed are:\n",
      "['chrom', 'start', 'end', 'name', 'score', 'strand', 'thickStart', 'thickEnd', 'itemRgb', 'blockCount', 'blockSizes', 'blockStarts']\n",
      "but file has 20 fields; you can supply custom names with the `names` kwarg\n",
      "  \"`names` kwarg\" % (self.file_type, _names, self.field_count())\n",
      "/home/hsher/miniconda3/envs/metadensity/lib/python3.7/site-packages/pybedtools-0.8.1-py3.7-linux-x86_64.egg/pybedtools/bedtool.py:3681: UserWarning: Default names for filetype bed are:\n",
      "['chrom', 'start', 'end', 'name', 'score', 'strand', 'thickStart', 'thickEnd', 'itemRgb', 'blockCount', 'blockSizes', 'blockStarts']\n",
      "but file has 15 fields; you can supply custom names with the `names` kwarg\n",
      "  \"`names` kwarg\" % (self.file_type, _names, self.field_count())\n"
     ]
    }
   ],
   "source": [
    "# determine which transcript these are in\n",
    "header = ['chrom', 'start', 'end', 'name', 'score', 'strand', 'attr']\n",
    "polya_site_df = polya.intersect(transcript,s = True, wb = True).to_dataframe(header = None)[[0,1,2,3,4,5,19]]\n",
    "polysignal_df = polyasignal_bed.intersect(transcript, s = True, wb = True).to_dataframe(header = None)[[0,1,2,3,4,5,14]]\n",
    "polya_site_df.columns = header\n",
    "polysignal_df.columns = header"
   ]
  },
  {
   "cell_type": "code",
   "execution_count": 10,
   "metadata": {},
   "outputs": [
    {
     "data": {
      "text/html": [
       "<div>\n",
       "<style scoped>\n",
       "    .dataframe tbody tr th:only-of-type {\n",
       "        vertical-align: middle;\n",
       "    }\n",
       "\n",
       "    .dataframe tbody tr th {\n",
       "        vertical-align: top;\n",
       "    }\n",
       "\n",
       "    .dataframe thead th {\n",
       "        text-align: right;\n",
       "    }\n",
       "</style>\n",
       "<table border=\"1\" class=\"dataframe\">\n",
       "  <thead>\n",
       "    <tr style=\"text-align: right;\">\n",
       "      <th></th>\n",
       "      <th>chrom</th>\n",
       "      <th>start</th>\n",
       "      <th>end</th>\n",
       "      <th>name</th>\n",
       "      <th>score</th>\n",
       "      <th>strand</th>\n",
       "      <th>attr</th>\n",
       "    </tr>\n",
       "  </thead>\n",
       "  <tbody>\n",
       "    <tr>\n",
       "      <th>0</th>\n",
       "      <td>chr1</td>\n",
       "      <td>16467</td>\n",
       "      <td>16468</td>\n",
       "      <td>1:16450:-</td>\n",
       "      <td>IN</td>\n",
       "      <td>-</td>\n",
       "      <td>ID=ENST00000488147.1;Parent=ENSG00000227232.5;...</td>\n",
       "    </tr>\n",
       "    <tr>\n",
       "      <th>1</th>\n",
       "      <td>chr1</td>\n",
       "      <td>186989</td>\n",
       "      <td>186990</td>\n",
       "      <td>1:186965:-</td>\n",
       "      <td>IN</td>\n",
       "      <td>-</td>\n",
       "      <td>ID=ENST00000623083.4;Parent=ENSG00000279457.4;...</td>\n",
       "    </tr>\n",
       "    <tr>\n",
       "      <th>2</th>\n",
       "      <td>chr1</td>\n",
       "      <td>194759</td>\n",
       "      <td>194760</td>\n",
       "      <td>1:194740:-</td>\n",
       "      <td>IN</td>\n",
       "      <td>-</td>\n",
       "      <td>ID=ENST00000623083.4;Parent=ENSG00000279457.4;...</td>\n",
       "    </tr>\n",
       "    <tr>\n",
       "      <th>3</th>\n",
       "      <td>chr1</td>\n",
       "      <td>262780</td>\n",
       "      <td>262781</td>\n",
       "      <td>1:262721:-</td>\n",
       "      <td>IN</td>\n",
       "      <td>-</td>\n",
       "      <td>ID=ENST00000441866.2;Parent=ENSG00000228463.10...</td>\n",
       "    </tr>\n",
       "    <tr>\n",
       "      <th>4</th>\n",
       "      <td>chr1</td>\n",
       "      <td>262776</td>\n",
       "      <td>262777</td>\n",
       "      <td>1:262721:-</td>\n",
       "      <td>IN</td>\n",
       "      <td>-</td>\n",
       "      <td>ID=ENST00000441866.2;Parent=ENSG00000228463.10...</td>\n",
       "    </tr>\n",
       "    <tr>\n",
       "      <th>...</th>\n",
       "      <td>...</td>\n",
       "      <td>...</td>\n",
       "      <td>...</td>\n",
       "      <td>...</td>\n",
       "      <td>...</td>\n",
       "      <td>...</td>\n",
       "      <td>...</td>\n",
       "    </tr>\n",
       "    <tr>\n",
       "      <th>236063</th>\n",
       "      <td>chrY</td>\n",
       "      <td>26545751</td>\n",
       "      <td>26545752</td>\n",
       "      <td>Y:26545767:+</td>\n",
       "      <td>IN</td>\n",
       "      <td>+</td>\n",
       "      <td>ID=ENST00000258589.8;Parent=ENSG00000215506.5;...</td>\n",
       "    </tr>\n",
       "    <tr>\n",
       "      <th>236064</th>\n",
       "      <td>chrY</td>\n",
       "      <td>26576251</td>\n",
       "      <td>26576252</td>\n",
       "      <td>Y:26576303:+</td>\n",
       "      <td>IN</td>\n",
       "      <td>+</td>\n",
       "      <td>ID=ENST00000258589.8;Parent=ENSG00000215506.5;...</td>\n",
       "    </tr>\n",
       "    <tr>\n",
       "      <th>236065</th>\n",
       "      <td>chrY</td>\n",
       "      <td>26576258</td>\n",
       "      <td>26576259</td>\n",
       "      <td>Y:26576303:+</td>\n",
       "      <td>IN</td>\n",
       "      <td>+</td>\n",
       "      <td>ID=ENST00000258589.8;Parent=ENSG00000215506.5;...</td>\n",
       "    </tr>\n",
       "    <tr>\n",
       "      <th>236066</th>\n",
       "      <td>chrY</td>\n",
       "      <td>26576272</td>\n",
       "      <td>26576273</td>\n",
       "      <td>Y:26576303:+</td>\n",
       "      <td>IN</td>\n",
       "      <td>+</td>\n",
       "      <td>ID=ENST00000258589.8;Parent=ENSG00000215506.5;...</td>\n",
       "    </tr>\n",
       "    <tr>\n",
       "      <th>236067</th>\n",
       "      <td>chrY</td>\n",
       "      <td>26626101</td>\n",
       "      <td>26626102</td>\n",
       "      <td>Y:26626073:-</td>\n",
       "      <td>IN</td>\n",
       "      <td>-</td>\n",
       "      <td>ID=ENST00000435945.1;Parent=ENSG00000237917.1;...</td>\n",
       "    </tr>\n",
       "  </tbody>\n",
       "</table>\n",
       "<p>236068 rows × 7 columns</p>\n",
       "</div>"
      ],
      "text/plain": [
       "       chrom     start       end          name score strand  \\\n",
       "0       chr1     16467     16468     1:16450:-    IN      -   \n",
       "1       chr1    186989    186990    1:186965:-    IN      -   \n",
       "2       chr1    194759    194760    1:194740:-    IN      -   \n",
       "3       chr1    262780    262781    1:262721:-    IN      -   \n",
       "4       chr1    262776    262777    1:262721:-    IN      -   \n",
       "...      ...       ...       ...           ...   ...    ...   \n",
       "236063  chrY  26545751  26545752  Y:26545767:+    IN      +   \n",
       "236064  chrY  26576251  26576252  Y:26576303:+    IN      +   \n",
       "236065  chrY  26576258  26576259  Y:26576303:+    IN      +   \n",
       "236066  chrY  26576272  26576273  Y:26576303:+    IN      +   \n",
       "236067  chrY  26626101  26626102  Y:26626073:-    IN      -   \n",
       "\n",
       "                                                     attr  \n",
       "0       ID=ENST00000488147.1;Parent=ENSG00000227232.5;...  \n",
       "1       ID=ENST00000623083.4;Parent=ENSG00000279457.4;...  \n",
       "2       ID=ENST00000623083.4;Parent=ENSG00000279457.4;...  \n",
       "3       ID=ENST00000441866.2;Parent=ENSG00000228463.10...  \n",
       "4       ID=ENST00000441866.2;Parent=ENSG00000228463.10...  \n",
       "...                                                   ...  \n",
       "236063  ID=ENST00000258589.8;Parent=ENSG00000215506.5;...  \n",
       "236064  ID=ENST00000258589.8;Parent=ENSG00000215506.5;...  \n",
       "236065  ID=ENST00000258589.8;Parent=ENSG00000215506.5;...  \n",
       "236066  ID=ENST00000258589.8;Parent=ENSG00000215506.5;...  \n",
       "236067  ID=ENST00000435945.1;Parent=ENSG00000237917.1;...  \n",
       "\n",
       "[236068 rows x 7 columns]"
      ]
     },
     "execution_count": 10,
     "metadata": {},
     "output_type": "execute_result"
    }
   ],
   "source": [
    "polysignal_df"
   ]
  },
  {
   "cell_type": "code",
   "execution_count": 11,
   "metadata": {},
   "outputs": [],
   "source": [
    "# extract transcript name\n",
    "def segment_transcript_name(s):\n",
    "    return s.split(';')[0].split('=')[1]\n",
    "polysignal_df['transcript_id']= polysignal_df['attr'].map(segment_transcript_name)\n",
    "polya_site_df['transcript_id']= polya_site_df['attr'].map(segment_transcript_name)"
   ]
  },
  {
   "cell_type": "code",
   "execution_count": 12,
   "metadata": {},
   "outputs": [
    {
     "data": {
      "text/plain": [
       "(20649,)"
      ]
     },
     "execution_count": 12,
     "metadata": {},
     "output_type": "execute_result"
    }
   ],
   "source": [
    "polya_site_df['transcript_id'].unique().shape"
   ]
  },
  {
   "cell_type": "code",
   "execution_count": 13,
   "metadata": {},
   "outputs": [
    {
     "name": "stderr",
     "output_type": "stream",
     "text": [
      "/home/hsher/miniconda3/envs/metadensity/lib/python3.7/site-packages/IPython/core/interactiveshell.py:3364: DtypeWarning: Columns (2,3,4,5,6,7,8,9,10,11,12,13,14,15,16,17,18,19,20,21,22,23,24,25,26,27,28,29,30,31,32,33,34,35,36,37,38,39,40,41,42,43,44,45,46,47,48,49,50,51,52,53,54,55,56,57,58,59,60,61,62,63,64,65,66,67,68,69,70,71,72,73,74,75,76,77,78,79,80,81,82,83,84,85,86,87,88,89,90,91,92,93,94,95,96,97,98,99,100,101,102,103,104,105,106,107,108,109,110) have mixed types.Specify dtype option on import or set low_memory=False.\n",
      "  if (await self.run_code(code, result,  async_=asy)):\n"
     ]
    },
    {
     "name": "stdout",
     "output_type": "stream",
     "text": [
      "Using: /home/hsher/miniconda3/envs/metadensity/lib/python3.7/site-packages/metadensity/data/hg38/gencode\n",
      "Done building metagene\n"
     ]
    }
   ],
   "source": [
    "# build metagene from highly expressed\n",
    "from metadensity.pos_enrich import *\n",
    "high_exp_meta = highly_exp_biogps('HEPG2')"
   ]
  },
  {
   "cell_type": "code",
   "execution_count": 14,
   "metadata": {},
   "outputs": [
    {
     "data": {
      "text/plain": [
       "(1437, 8)"
      ]
     },
     "execution_count": 14,
     "metadata": {},
     "output_type": "execute_result"
    }
   ],
   "source": [
    "# check how many of those contain intronic polya sites\n",
    "polya_site_df.loc[polya_site_df['transcript_id'].isin(high_exp_meta.keys())].shape"
   ]
  },
  {
   "cell_type": "code",
   "execution_count": 15,
   "metadata": {},
   "outputs": [],
   "source": [
    "# add feature to those metagene\n",
    "for transcript_id in high_exp_meta.keys():\n",
    "    metagene = high_exp_meta[transcript_id]\n",
    "    \n",
    "    # add feature\n",
    "    sub = polya_site_df.loc[polya_site_df['transcript_id']==transcript_id]\n",
    "    for index, row in sub.iterrows():\n",
    "        metagene.create_feature(interval = row['start'], feature_name = 'intron_polyAsite') # POINT FEATURE\n",
    "    \n",
    "    sub = polysignal_df.loc[polysignal_df['transcript_id']==transcript_id]\n",
    "    for index, row in sub.iterrows():\n",
    "        metagene.create_feature(interval = row['start'], feature_name = 'intron_polyAsig')"
   ]
  },
  {
   "cell_type": "code",
   "execution_count": 16,
   "metadata": {},
   "outputs": [],
   "source": [
    "# remove metagene that has no intronic polya\n",
    "for transcript_id in list(high_exp_meta.keys()).copy():\n",
    "    metagene = high_exp_meta[transcript_id]\n",
    "    \n",
    "    if 'intron_polyAsite' not in metagene.featnames or 'intron_polyAsig' not in metagene.featnames:\n",
    "        del high_exp_meta[transcript_id]"
   ]
  },
  {
   "cell_type": "code",
   "execution_count": 17,
   "metadata": {},
   "outputs": [
    {
     "data": {
      "text/plain": [
       "147"
      ]
     },
     "execution_count": 17,
     "metadata": {},
     "output_type": "execute_result"
    }
   ],
   "source": [
    "len(high_exp_meta)"
   ]
  },
  {
   "cell_type": "markdown",
   "metadata": {},
   "source": [
    "# extract density from eCLIP"
   ]
  },
  {
   "cell_type": "code",
   "execution_count": 18,
   "metadata": {},
   "outputs": [],
   "source": [
    "def build_idr_metadensity(eCLIP, metagene = high_exp_meta):\n",
    "    ''' build metadensity object for eCLIP and its IDR containing transcript'''\n",
    "    \n",
    "    m = Metadensity(eCLIP, eCLIP.name+'_intronic_poly', metagenes = metagene,\n",
    "                   background_method = 'relative information', normalize = False)\n",
    "    m.get_density_array()\n",
    "    return m"
   ]
  },
  {
   "cell_type": "code",
   "execution_count": 19,
   "metadata": {},
   "outputs": [
    {
     "name": "stderr",
     "output_type": "stream",
     "text": [
      "/home/hsher/miniconda3/envs/metadensity/lib/python3.7/site-packages/metadensity/metadensity.py:613: RuntimeWarning: Mean of empty slice\n",
      "  feature_average  = np.nanmean(np.stack(all_feature_values), axis = 0)\n"
     ]
    }
   ],
   "source": [
    "all_meta = [build_idr_metadensity(e) for e in all_clips]\n",
    "\n",
    "\n"
   ]
  },
  {
   "cell_type": "code",
   "execution_count": 20,
   "metadata": {},
   "outputs": [
    {
     "data": {
      "image/png": "[encoded data removed]",
      "text/plain": [
       "<Figure size 864x216 with 4 Axes>"
      ]
     },
     "metadata": {
      "needs_background": "light"
     },
     "output_type": "display_data"
    }
   ],
   "source": [
    "\n",
    "f=plot_mean_density(all_meta,features_to_show = ['intron_polyAsig','intron_polyAsite'], ymax = 0.00004)"
   ]
  },
  {
   "cell_type": "code",
   "execution_count": null,
   "metadata": {},
   "outputs": [],
   "source": []
  }
 ],
 "metadata": {
  "kernelspec": {
   "display_name": "metadensity",
   "language": "python",
   "name": "metadensity"
  },
  "language_info": {
   "codemirror_mode": {
    "name": "ipython",
    "version": 3
   },
   "file_extension": ".py",
   "mimetype": "text/x-python",
   "name": "python",
   "nbconvert_exporter": "python",
   "pygments_lexer": "ipython3",
   "version": "3.7.10"
  }
 },
 "nbformat": 4,
 "nbformat_minor": 4
}
