{
 "cells": [
  {
   "cell_type": "markdown",
   "metadata": {},
   "source": [
    "# See which region is enriched?\n",
    "Charlene did region based enrichment quick and dirty"
   ]
  },
  {
   "cell_type": "code",
   "execution_count": 1,
   "metadata": {},
   "outputs": [],
   "source": [
    "import sys\n",
    "sys.path.append('/home/hsher/projects/Metadensity')\n",
    "from metadensity.metadensity import *\n",
    "from metadensity.plotd import *\n",
    "import pandas as pd\n",
    "import matplotlib.pyplot as plt\n",
    "\n",
    "encode_data = pd.read_pickle('~/projects/eclip_encode_id.pickle')\n",
    "eclip_bam = pd.read_csv('/home/hsher/projects/RBP_annot/ENCODE_FINAL_ANNOTATIONS.uidsonly.txt.manifesthg38.txt', sep = '\\t', header= 0)\n",
    "\n",
    "# join data\n",
    "encode_data = pd.merge(eclip_bam[['uID', 'RBP', 'Cell line']], encode_data, left_on = ['RBP', 'Cell line'], right_on = ['RBP', 'cell_line'])"
   ]
  },
  {
   "cell_type": "code",
   "execution_count": 2,
   "metadata": {},
   "outputs": [
    {
     "name": "stdout",
     "output_type": "stream",
     "text": [
      "finding negative/positive examples\n"
     ]
    }
   ],
   "source": [
    "HNRNPC = eCLIP()\n",
    "HNRNPC.RBP_centric_approach(encode_data.loc[(encode_data['RBP'] == 'HNRNPC')&(encode_data['Cell line'] == 'HepG2')])"
   ]
  },
  {
   "cell_type": "markdown",
   "metadata": {},
   "source": [
    "# fetching total reads mapped"
   ]
  },
  {
   "cell_type": "code",
   "execution_count": 3,
   "metadata": {},
   "outputs": [
    {
     "data": {
      "text/plain": [
       "20283708"
      ]
     },
     "execution_count": 3,
     "metadata": {},
     "output_type": "execute_result"
    }
   ],
   "source": [
    "HNRNPC.read_densities['rep1'].total_mapped()"
   ]
  },
  {
   "cell_type": "code",
   "execution_count": 4,
   "metadata": {},
   "outputs": [
    {
     "data": {
      "text/plain": [
       "30721918"
      ]
     },
     "execution_count": 4,
     "metadata": {},
     "output_type": "execute_result"
    }
   ],
   "source": [
    "HNRNPC.read_densities['rep2'].total_mapped()"
   ]
  },
  {
   "cell_type": "code",
   "execution_count": 5,
   "metadata": {},
   "outputs": [
    {
     "data": {
      "text/plain": [
       "11838172"
      ]
     },
     "execution_count": 5,
     "metadata": {},
     "output_type": "execute_result"
    }
   ],
   "source": [
    "HNRNPC.read_densities['ctrl'].total_mapped()"
   ]
  },
  {
   "cell_type": "markdown",
   "metadata": {},
   "source": [
    "# fetching regional reads"
   ]
  },
  {
   "cell_type": "code",
   "execution_count": 6,
   "metadata": {},
   "outputs": [],
   "source": [
    "introns = BedTool('/home/hsher/gencode_coords/gencode_intron.gff3')"
   ]
  },
  {
   "cell_type": "code",
   "execution_count": 7,
   "metadata": {},
   "outputs": [
    {
     "data": {
      "text/plain": [
       "190"
      ]
     },
     "execution_count": 7,
     "metadata": {},
     "output_type": "execute_result"
    }
   ],
   "source": [
    "HNRNPC.read_densities['rep1'].bam.count(contig = 'chr1', start=12227, stop = 212612)"
   ]
  },
  {
   "cell_type": "code",
   "execution_count": 8,
   "metadata": {},
   "outputs": [
    {
     "data": {
      "text/plain": [
       "83"
      ]
     },
     "execution_count": 8,
     "metadata": {},
     "output_type": "execute_result"
    }
   ],
   "source": [
    "HNRNPC.read_densities['ctrl'].bam.count(contig = 'chr1', start=12227, stop = 212612)"
   ]
  },
  {
   "cell_type": "markdown",
   "metadata": {},
   "source": [
    "# putting all stuffs together"
   ]
  },
  {
   "cell_type": "code",
   "execution_count": 9,
   "metadata": {},
   "outputs": [],
   "source": [
    "from scipy.stats import poisson\n",
    "def poission_pval(smi_total, smi_region, ip_total, ip_region):\n",
    "    rate = smi_region / smi_total\n",
    "    x = ip_total\n",
    "    mu = rate*x\n",
    "    \n",
    "    \n",
    "    # get pvalue\n",
    "    return 1-poisson.cdf(ip_region, mu = mu)\n",
    "\n",
    "def poission_critical_val(smi_total, smi_region, ip_total, alpha = 0.05):\n",
    "    rate = smi_region / smi_total\n",
    "    x = ip_total\n",
    "    mu = rate*x\n",
    "    \n",
    "    percentile = 1-alpha\n",
    "    \n",
    "    return poisson.ppf(percentile, mu = mu)\n",
    "    \n",
    "    \n",
    "    "
   ]
  },
  {
   "cell_type": "markdown",
   "metadata": {},
   "source": [
    "# run on 10000 introns for HNRNPC rep1"
   ]
  },
  {
   "cell_type": "code",
   "execution_count": 10,
   "metadata": {},
   "outputs": [],
   "source": [
    "df = pd.DataFrame(columns = ['chrom', 'start', 'stop', 'ID', '.', 'strand', 'pval', 'fold'])\n",
    "ip_total = HNRNPC.read_densities['rep1'].total_mapped()\n",
    "smi_total = HNRNPC.read_densities['ctrl'].total_mapped()\n",
    "nrow = 0\n",
    "for i in introns[:10000]:\n",
    "    \n",
    "    ip_region = HNRNPC.read_densities['rep1'].bam.count(contig = i.chrom, start=i.start, stop = i.stop)\n",
    "    \n",
    "    if ip_region > 0:\n",
    "        # if more than 1 read in that intron\n",
    "        smi_region = HNRNPC.read_densities['ctrl'].bam.count(contig = i.chrom, start=i.start, stop = i.stop)\n",
    "        if smi_region > 0:\n",
    "            pval = poission_pval(smi_total, smi_region, ip_total, ip_region)\n",
    "            fold_enrich = (ip_region/ip_total)/(smi_region/smi_total)\n",
    "            \n",
    "            if pval < 0.05:\n",
    "                bed = [i.chrom, i.start,i.stop,i.attrs['ID'],\".\",i.strand, pval, fold_enrich]\n",
    "                \n",
    "                df.loc[nrow] = bed\n",
    "                nrow += 1\n",
    "                \n",
    "    \n",
    "    "
   ]
  },
  {
   "cell_type": "code",
   "execution_count": 11,
   "metadata": {},
   "outputs": [
    {
     "data": {
      "text/plain": [
       "(2010, 8)"
      ]
     },
     "execution_count": 11,
     "metadata": {},
     "output_type": "execute_result"
    }
   ],
   "source": [
    "df.shape"
   ]
  },
  {
   "cell_type": "code",
   "execution_count": 12,
   "metadata": {},
   "outputs": [
    {
     "data": {
      "text/plain": [
       "Text(0, 0.5, 'No. intron')"
      ]
     },
     "execution_count": 12,
     "metadata": {},
     "output_type": "execute_result"
    },
    {
     "data": {
      "image/png": "[encoded data removed]",
      "text/plain": [
       "<Figure size 432x288 with 1 Axes>"
      ]
     },
     "metadata": {
      "needs_background": "light"
     },
     "output_type": "display_data"
    }
   ],
   "source": [
    "df['pval'].hist()\n",
    "plt.xlabel('pval unadjusted')\n",
    "plt.ylabel('No. intron')"
   ]
  },
  {
   "cell_type": "code",
   "execution_count": 13,
   "metadata": {},
   "outputs": [
    {
     "data": {
      "text/plain": [
       "<matplotlib.axes._subplots.AxesSubplot at 0x2aacf4ac3050>"
      ]
     },
     "execution_count": 13,
     "metadata": {},
     "output_type": "execute_result"
    },
    {
     "data": {
      "image/png": "[encoded data removed]",
      "text/plain": [
       "<Figure size 432x288 with 1 Axes>"
      ]
     },
     "metadata": {
      "needs_background": "light"
     },
     "output_type": "display_data"
    }
   ],
   "source": [
    "df.plot(kind = 'scatter', x = 'pval', y = 'fold')"
   ]
  },
  {
   "cell_type": "markdown",
   "metadata": {},
   "source": [
    "# multiple hypothesis correction"
   ]
  },
  {
   "cell_type": "code",
   "execution_count": 14,
   "metadata": {},
   "outputs": [
    {
     "data": {
      "text/html": [
       "<div>\n",
       "<style scoped>\n",
       "    .dataframe tbody tr th:only-of-type {\n",
       "        vertical-align: middle;\n",
       "    }\n",
       "\n",
       "    .dataframe tbody tr th {\n",
       "        vertical-align: top;\n",
       "    }\n",
       "\n",
       "    .dataframe thead th {\n",
       "        text-align: right;\n",
       "    }\n",
       "</style>\n",
       "<table border=\"1\" class=\"dataframe\">\n",
       "  <thead>\n",
       "    <tr style=\"text-align: right;\">\n",
       "      <th></th>\n",
       "      <th>chrom</th>\n",
       "      <th>start</th>\n",
       "      <th>stop</th>\n",
       "      <th>ID</th>\n",
       "      <th>.</th>\n",
       "      <th>strand</th>\n",
       "      <th>pval</th>\n",
       "      <th>fold</th>\n",
       "    </tr>\n",
       "  </thead>\n",
       "  <tbody>\n",
       "    <tr>\n",
       "      <th>0</th>\n",
       "      <td>chr1</td>\n",
       "      <td>18366</td>\n",
       "      <td>24737</td>\n",
       "      <td>ENST00000488147.1</td>\n",
       "      <td>.</td>\n",
       "      <td>-</td>\n",
       "      <td>2.792419e-05</td>\n",
       "      <td>3.112691</td>\n",
       "    </tr>\n",
       "    <tr>\n",
       "      <th>1</th>\n",
       "      <td>chr1</td>\n",
       "      <td>24891</td>\n",
       "      <td>29533</td>\n",
       "      <td>ENST00000488147.1</td>\n",
       "      <td>.</td>\n",
       "      <td>-</td>\n",
       "      <td>4.081088e-04</td>\n",
       "      <td>4.085407</td>\n",
       "    </tr>\n",
       "    <tr>\n",
       "      <th>2</th>\n",
       "      <td>chr1</td>\n",
       "      <td>92240</td>\n",
       "      <td>112699</td>\n",
       "      <td>ENST00000466430.5</td>\n",
       "      <td>.</td>\n",
       "      <td>-</td>\n",
       "      <td>2.395670e-04</td>\n",
       "      <td>3.209963</td>\n",
       "    </tr>\n",
       "    <tr>\n",
       "      <th>3</th>\n",
       "      <td>chr1</td>\n",
       "      <td>188902</td>\n",
       "      <td>195262</td>\n",
       "      <td>ENST00000623083.4</td>\n",
       "      <td>.</td>\n",
       "      <td>-</td>\n",
       "      <td>4.057374e-10</td>\n",
       "      <td>2.167767</td>\n",
       "    </tr>\n",
       "    <tr>\n",
       "      <th>4</th>\n",
       "      <td>chr1</td>\n",
       "      <td>268655</td>\n",
       "      <td>347981</td>\n",
       "      <td>ENST00000441866.2</td>\n",
       "      <td>.</td>\n",
       "      <td>-</td>\n",
       "      <td>4.220385e-02</td>\n",
       "      <td>1.264531</td>\n",
       "    </tr>\n",
       "  </tbody>\n",
       "</table>\n",
       "</div>"
      ],
      "text/plain": [
       "  chrom   start    stop                 ID  . strand          pval      fold\n",
       "0  chr1   18366   24737  ENST00000488147.1  .      -  2.792419e-05  3.112691\n",
       "1  chr1   24891   29533  ENST00000488147.1  .      -  4.081088e-04  4.085407\n",
       "2  chr1   92240  112699  ENST00000466430.5  .      -  2.395670e-04  3.209963\n",
       "3  chr1  188902  195262  ENST00000623083.4  .      -  4.057374e-10  2.167767\n",
       "4  chr1  268655  347981  ENST00000441866.2  .      -  4.220385e-02  1.264531"
      ]
     },
     "execution_count": 14,
     "metadata": {},
     "output_type": "execute_result"
    }
   ],
   "source": [
    "df.head()"
   ]
  },
  {
   "cell_type": "code",
   "execution_count": 15,
   "metadata": {},
   "outputs": [],
   "source": [
    "# bonferrni correction\n",
    "df['padj'] = df['pval']* 10000"
   ]
  },
  {
   "cell_type": "code",
   "execution_count": 16,
   "metadata": {},
   "outputs": [
    {
     "data": {
      "text/plain": [
       "1174"
      ]
     },
     "execution_count": 16,
     "metadata": {},
     "output_type": "execute_result"
    }
   ],
   "source": [
    "sum(df['padj'] < 0.05)"
   ]
  },
  {
   "cell_type": "code",
   "execution_count": 17,
   "metadata": {},
   "outputs": [
    {
     "data": {
      "text/plain": [
       "1003"
      ]
     },
     "execution_count": 17,
     "metadata": {},
     "output_type": "execute_result"
    }
   ],
   "source": [
    "sum(df['padj'] < 10**(-3)) # the threshold suggested by eCLIP paper"
   ]
  },
  {
   "cell_type": "code",
   "execution_count": 18,
   "metadata": {},
   "outputs": [
    {
     "data": {
      "text/plain": [
       "(31, 9)"
      ]
     },
     "execution_count": 18,
     "metadata": {},
     "output_type": "execute_result"
    }
   ],
   "source": [
    "df.loc[(df['padj']< 10**(-3)) & (df['fold'] > 8)].shape # filter by both p-val and fold change"
   ]
  },
  {
   "cell_type": "code",
   "execution_count": 19,
   "metadata": {},
   "outputs": [],
   "source": [
    "filtered = df.loc[(df['padj']< 10**(-3)) & (df['fold'] > 8)]"
   ]
  },
  {
   "cell_type": "code",
   "execution_count": 20,
   "metadata": {},
   "outputs": [],
   "source": [
    "signi_intron = BedTool.from_dataframe(filtered)"
   ]
  },
  {
   "cell_type": "markdown",
   "metadata": {},
   "source": [
    "# run 10000 feature and see if distribution fit what we know"
   ]
  },
  {
   "cell_type": "code",
   "execution_count": 21,
   "metadata": {},
   "outputs": [],
   "source": [
    "features = BedTool('/home/hsher/gencode_coords/gencode_combine_sorted.gff3')\n",
    "def run_poission(e, rep, features = features, n_upper = 10000):\n",
    "    # create dataframe to save result\n",
    "    df = pd.DataFrame(columns = ['chrom', 'start', 'stop', 'ID', '.', 'strand', 'pval', 'fold'])\n",
    "    \n",
    "    # fetch total reads\n",
    "    \n",
    "    ip_total = e.read_densities[rep].total_mapped()\n",
    "    smi_total = e.read_densities['ctrl'].total_mapped()\n",
    "    \n",
    "    # run for all regions\n",
    "    nrow = 0\n",
    "    for i in features[:n_upper]:\n",
    "    \n",
    "        ip_region = e.read_densities[rep].bam.count(contig = i.chrom, start=i.start, stop = i.stop)\n",
    "    \n",
    "        if ip_region > 0:\n",
    "            # if more than 1 read in that intron\n",
    "            smi_region = e.read_densities['ctrl'].bam.count(contig = i.chrom, start=i.start, stop = i.stop)\n",
    "            if smi_region > 0:\n",
    "                pval = poission_pval(smi_total, smi_region, ip_total, ip_region)\n",
    "                fold_enrich = (ip_region/ip_total)/(smi_region/smi_total)\n",
    "            \n",
    "                if pval < 0.05:\n",
    "                    bed = [i.chrom, i.start,i.stop,i.attrs['ID'],\".\",i.strand, pval, fold_enrich]\n",
    "                \n",
    "                    df.loc[nrow] = bed\n",
    "                    nrow += 1\n",
    "    \n",
    "    # bonferrni correction\n",
    "    df['padj'] = df['pval']* n_upper\n",
    "    \n",
    "    # filter\n",
    "    filtered = df.loc[(df['padj']< 10**(-3)) & (df['fold'] > 8)]\n",
    "    \n",
    "    return BedTool.from_dataframe(filtered)\n",
    "    \n",
    "\n",
    "def main(RBP, n_upper = 10000, features = features):\n",
    "    \n",
    "    # create eCLIP object\n",
    "    e = eCLIP()\n",
    "    e.RBP_centric_approach(encode_data.loc[(encode_data['RBP'] == RBP)&(encode_data['Cell line'] == 'HepG2')])\n",
    "    \n",
    "    for rep in ['rep1', 'rep2']:\n",
    "        bed = run_poission(e, rep, n_upper = n_upper, features = features)\n",
    "        \n",
    "        bed.saveas('{}_{}.bed'.format(e.name, rep))\n",
    "        print(len(bed))\n",
    "        \n",
    "    \n",
    "    \n",
    "    \n",
    "    \n",
    "                "
   ]
  },
  {
   "cell_type": "code",
   "execution_count": 22,
   "metadata": {},
   "outputs": [
    {
     "name": "stdout",
     "output_type": "stream",
     "text": [
      "finding negative/positive examples\n",
      "98\n",
      "85\n"
     ]
    }
   ],
   "source": [
    "main('LIN28B')"
   ]
  },
  {
   "cell_type": "code",
   "execution_count": 23,
   "metadata": {},
   "outputs": [
    {
     "name": "stdout",
     "output_type": "stream",
     "text": [
      "finding negative/positive examples\n",
      "16\n",
      "14\n"
     ]
    }
   ],
   "source": [
    "main('HNRNPC')"
   ]
  },
  {
   "cell_type": "code",
   "execution_count": 24,
   "metadata": {},
   "outputs": [
    {
     "name": "stdout",
     "output_type": "stream",
     "text": [
      "finding negative/positive examples\n",
      "381\n",
      "403\n"
     ]
    }
   ],
   "source": [
    "main('RPS3')"
   ]
  },
  {
   "cell_type": "code",
   "execution_count": 25,
   "metadata": {},
   "outputs": [
    {
     "name": "stdout",
     "output_type": "stream",
     "text": [
      "finding negative/positive examples\n",
      "214\n",
      "138\n"
     ]
    }
   ],
   "source": [
    "main('RBFOX2')"
   ]
  },
  {
   "cell_type": "code",
   "execution_count": 26,
   "metadata": {},
   "outputs": [],
   "source": [
    "from collections import Counter\n",
    "def count_feature(bed):\n",
    "\n",
    "    type_feats = [bed[i].fields[3].split(':')[0] if 'ENST' not in bed[i].fields[3].split(':')[0] else 'intron' for i in range(len(bed))]\n",
    "    \n",
    "    return Counter(type_feats)"
   ]
  },
  {
   "cell_type": "code",
   "execution_count": 27,
   "metadata": {},
   "outputs": [],
   "source": [
    "no_signi = pd.DataFrame()\n",
    "for rbp in ['LIN28B', 'HNRNPC', 'RPS3', 'RBFOX2']:\n",
    "    for rep in ['rep1', 'rep2']:\n",
    "        bed = BedTool('{}_{}.bed'.format(rbp, rep))\n",
    "        count = count_feature(bed)\n",
    "        no_signi = no_signi.append(count, ignore_index = True)"
   ]
  },
  {
   "cell_type": "code",
   "execution_count": 28,
   "metadata": {},
   "outputs": [],
   "source": [
    "no_signi.index = ['{}_{}'.format(rbp, rep) for rbp in ['LIN28B', 'HNRNPC', 'RPS3', 'RBFOX2'] for rep in ['rep1', 'rep2']]"
   ]
  },
  {
   "cell_type": "code",
   "execution_count": 29,
   "metadata": {},
   "outputs": [
    {
     "data": {
      "text/html": [
       "<div>\n",
       "<style scoped>\n",
       "    .dataframe tbody tr th:only-of-type {\n",
       "        vertical-align: middle;\n",
       "    }\n",
       "\n",
       "    .dataframe tbody tr th {\n",
       "        vertical-align: top;\n",
       "    }\n",
       "\n",
       "    .dataframe thead th {\n",
       "        text-align: right;\n",
       "    }\n",
       "</style>\n",
       "<table border=\"1\" class=\"dataframe\">\n",
       "  <thead>\n",
       "    <tr style=\"text-align: right;\">\n",
       "      <th></th>\n",
       "      <th>UTR3</th>\n",
       "      <th>UTR5</th>\n",
       "      <th>exon</th>\n",
       "      <th>intron</th>\n",
       "    </tr>\n",
       "  </thead>\n",
       "  <tbody>\n",
       "    <tr>\n",
       "      <th>LIN28B_rep1</th>\n",
       "      <td>2.0</td>\n",
       "      <td>2.0</td>\n",
       "      <td>85.0</td>\n",
       "      <td>9.0</td>\n",
       "    </tr>\n",
       "    <tr>\n",
       "      <th>LIN28B_rep2</th>\n",
       "      <td>4.0</td>\n",
       "      <td>2.0</td>\n",
       "      <td>68.0</td>\n",
       "      <td>11.0</td>\n",
       "    </tr>\n",
       "    <tr>\n",
       "      <th>HNRNPC_rep1</th>\n",
       "      <td>NaN</td>\n",
       "      <td>NaN</td>\n",
       "      <td>1.0</td>\n",
       "      <td>15.0</td>\n",
       "    </tr>\n",
       "    <tr>\n",
       "      <th>HNRNPC_rep2</th>\n",
       "      <td>NaN</td>\n",
       "      <td>NaN</td>\n",
       "      <td>2.0</td>\n",
       "      <td>12.0</td>\n",
       "    </tr>\n",
       "    <tr>\n",
       "      <th>RPS3_rep1</th>\n",
       "      <td>8.0</td>\n",
       "      <td>39.0</td>\n",
       "      <td>288.0</td>\n",
       "      <td>46.0</td>\n",
       "    </tr>\n",
       "    <tr>\n",
       "      <th>RPS3_rep2</th>\n",
       "      <td>5.0</td>\n",
       "      <td>34.0</td>\n",
       "      <td>306.0</td>\n",
       "      <td>58.0</td>\n",
       "    </tr>\n",
       "    <tr>\n",
       "      <th>RBFOX2_rep1</th>\n",
       "      <td>4.0</td>\n",
       "      <td>6.0</td>\n",
       "      <td>37.0</td>\n",
       "      <td>167.0</td>\n",
       "    </tr>\n",
       "    <tr>\n",
       "      <th>RBFOX2_rep2</th>\n",
       "      <td>7.0</td>\n",
       "      <td>3.0</td>\n",
       "      <td>21.0</td>\n",
       "      <td>107.0</td>\n",
       "    </tr>\n",
       "  </tbody>\n",
       "</table>\n",
       "</div>"
      ],
      "text/plain": [
       "             UTR3  UTR5   exon  intron\n",
       "LIN28B_rep1   2.0   2.0   85.0     9.0\n",
       "LIN28B_rep2   4.0   2.0   68.0    11.0\n",
       "HNRNPC_rep1   NaN   NaN    1.0    15.0\n",
       "HNRNPC_rep2   NaN   NaN    2.0    12.0\n",
       "RPS3_rep1     8.0  39.0  288.0    46.0\n",
       "RPS3_rep2     5.0  34.0  306.0    58.0\n",
       "RBFOX2_rep1   4.0   6.0   37.0   167.0\n",
       "RBFOX2_rep2   7.0   3.0   21.0   107.0"
      ]
     },
     "execution_count": 29,
     "metadata": {},
     "output_type": "execute_result"
    }
   ],
   "source": [
    "no_signi"
   ]
  },
  {
   "cell_type": "code",
   "execution_count": 30,
   "metadata": {},
   "outputs": [
    {
     "data": {
      "text/plain": [
       "Text(0, 0.5, 'No. region significant')"
      ]
     },
     "execution_count": 30,
     "metadata": {},
     "output_type": "execute_result"
    },
    {
     "data": {
      "image/png": "[encoded data removed]",
      "text/plain": [
       "<Figure size 432x288 with 1 Axes>"
      ]
     },
     "metadata": {
      "needs_background": "light"
     },
     "output_type": "display_data"
    }
   ],
   "source": [
    "no_signi.fillna(0).plot.bar(stacked = True)\n",
    "plt.ylabel('No. region significant')"
   ]
  },
  {
   "cell_type": "code",
   "execution_count": 31,
   "metadata": {},
   "outputs": [],
   "source": [
    "comp = no_signi.fillna(0)\n",
    "comp = comp.div(comp.sum(axis = 1), axis = 0)"
   ]
  },
  {
   "cell_type": "code",
   "execution_count": 32,
   "metadata": {},
   "outputs": [
    {
     "data": {
      "text/plain": [
       "Text(0, 0.5, '% region')"
      ]
     },
     "execution_count": 32,
     "metadata": {},
     "output_type": "execute_result"
    },
    {
     "data": {
      "image/png": "[encoded data removed]",
      "text/plain": [
       "<Figure size 432x288 with 1 Axes>"
      ]
     },
     "metadata": {
      "needs_background": "light"
     },
     "output_type": "display_data"
    }
   ],
   "source": [
    "comp.plot.bar(stacked = True)\n",
    "plt.ylabel('% region')"
   ]
  }
 ],
 "metadata": {
  "kernelspec": {
   "display_name": "Python 3",
   "language": "python",
   "name": "python3"
  },
  "language_info": {
   "codemirror_mode": {
    "name": "ipython",
    "version": 3
   },
   "file_extension": ".py",
   "mimetype": "text/x-python",
   "name": "python",
   "nbconvert_exporter": "python",
   "pygments_lexer": "ipython3",
   "version": "3.7.6"
  }
 },
 "nbformat": 4,
 "nbformat_minor": 4
}
